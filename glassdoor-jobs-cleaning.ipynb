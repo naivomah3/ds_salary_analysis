{
 "cells": [
  {
   "cell_type": "markdown",
   "metadata": {},
   "source": [
    "## **Glassdoor data analysis and modeling**"
   ]
  },
  {
   "cell_type": "markdown",
   "metadata": {},
   "source": [
    "### Part 2: __Data cleaning__\n"
   ]
  },
  {
   "cell_type": "code",
   "execution_count": 1,
   "metadata": {},
   "outputs": [],
   "source": [
    "#### Parsing Cols: \n",
    "    # Salary Estimate \n",
    "    # Company name \n",
    "    # State name \n",
    "    # Age of company  \n",
    "    # Job description "
   ]
  },
  {
   "cell_type": "code",
   "execution_count": 69,
   "metadata": {},
   "outputs": [
    {
     "output_type": "execute_result",
     "data": {
      "text/plain": "'0.23.4'"
     },
     "metadata": {},
     "execution_count": 69
    }
   ],
   "source": [
    "import pandas as pd \n",
    "import numpy as np\n",
    "# Display full output \n",
    "from IPython.core.interactiveshell import InteractiveShell\n",
    "InteractiveShell.ast_node_interactivity = \"all\"\n",
    "pd.__version__"
   ]
  },
  {
   "cell_type": "code",
   "execution_count": 70,
   "metadata": {
    "tags": []
   },
   "outputs": [],
   "source": [
    "df = pd.read_csv(\"dataset/gd_data.csv\")\n"
   ]
  },
  {
   "cell_type": "code",
   "execution_count": 71,
   "metadata": {
    "tags": []
   },
   "outputs": [
    {
     "output_type": "stream",
     "name": "stdout",
     "text": "Data having Salary Estimate:\n"
    },
    {
     "output_type": "execute_result",
     "data": {
      "text/plain": "(956, 15)"
     },
     "metadata": {},
     "execution_count": 71
    },
    {
     "output_type": "stream",
     "name": "stdout",
     "text": "Data not having Salary Estimate:\n"
    },
    {
     "output_type": "execute_result",
     "data": {
      "text/plain": "(214, 15)"
     },
     "metadata": {},
     "execution_count": 71
    }
   ],
   "source": [
    "print(\"Data having Salary Estimate:\")\n",
    "df.shape\n",
    "print(\"Data not having Salary Estimate:\")\n",
    "df[df[\"Salary Estimate\"] == \"-1\"].shape \n",
    "\n",
    "# Separate data with and without \"Salary estimate\"\n",
    "# Save data not having Salary Estimate to further infer it in later \n",
    "df_no_salary = df[df[\"Salary Estimate\"] == \"-1\"]\n",
    "df.to_csv('dataset/gd_data_no_salary_estimate.csv', index=False)"
   ]
  },
  {
   "cell_type": "code",
   "execution_count": 72,
   "metadata": {},
   "outputs": [],
   "source": [
    "# SALARY PARSING \n",
    "#  Filter out only data having \"Salary Estimate\" \n",
    "df = df[df[\"Salary Estimate\"] != \"-1\"]\n",
    "# Remove string after \"Salary Estimate\" - Only take the salary range \n",
    "salary = df[\"Salary Estimate\"].apply(lambda x: x.split('(')[0])\n",
    "# Remove Thousand & Dollar signs  \n",
    "salary = salary.apply(lambda x: x.replace('K','').replace('$',''))\n",
    "# Remove unecessary string surrounding the \"Salary Estimate\" \n",
    "salary = salary.apply(lambda x: x.lower().replace('employer provided salary:','').replace('per hour',''))\n",
    "\n",
    "# As shown above, salary may come \"Per hour\" or \"Employer Provided\" or simply \"Per annum\"\n",
    "# Create new Features for handling so \n",
    "# 1: if 'Salary Estimate' is hourly, 0: otherwise \n",
    "# 1: if 'Salary Estimate' is employer provided, 0: otherwise\n",
    "df[\"hourly\"] = salary.apply(lambda x: 1 if 'per hour' in x.lower() else 0)\n",
    "df[\"employer_provided\"] = salary.apply(lambda x: 1 if 'employer provided salary:' in x.lower() else 0)\n",
    "#df[\"employer_provided\"].unique()\n",
    "\n",
    "\n",
    "# Split and get the min. and max. salary estimate and make them as new features  \n",
    "df[\"min_salary\"] = salary.apply(lambda x: int(x.split('-')[0]))\n",
    "df[\"max_salary\"] = salary.apply(lambda x: int(x.split('-')[1]))\n",
    "df[\"avg_salary\"] = (df[\"min_salary\"] + df[\"max_salary\"]) / 2\n",
    "# salary.unique()\n",
    "# df[\"avg_salary\"].dtype\n",
    "\n",
    "# Convert them to numeric  \n",
    "df[['min_salary', 'max_salary', 'avg_salary']] = df[['min_salary', 'max_salary', 'avg_salary']].astype(np.float16)"
   ]
  },
  {
   "cell_type": "code",
   "execution_count": 73,
   "metadata": {},
   "outputs": [
    {
     "output_type": "execute_result",
     "data": {
      "text/plain": "   Unnamed: 0                  Job Title              Salary Estimate  \\\n0           0             Data Scientist   $53K-$91K (Glassdoor est.)   \n1           1  Healthcare Data Scientist  $63K-$112K (Glassdoor est.)   \n2           2             Data Scientist   $80K-$90K (Glassdoor est.)   \n3           3             Data Scientist   $56K-$97K (Glassdoor est.)   \n4           4             Data Scientist  $86K-$143K (Glassdoor est.)   \n\n                                     Job Description  Rating  \\\n0  Data Scientist\\nLocation: Albuquerque, NM\\nEdu...     3.8   \n1  What You Will Do:\\n\\nI. General Summary\\n\\nThe...     3.4   \n2  KnowBe4, Inc. is a high growth information sec...     4.8   \n3  *Organization and Job ID**\\nJob ID: 310709\\n\\n...     3.8   \n4  Data Scientist\\nAffinity Solutions / Marketing...     2.9   \n\n                                 Company Name         Location  \\\n0                      Tecolote Research\\n3.8  Albuquerque, NM   \n1  University of Maryland Medical System\\n3.4    Linthicum, MD   \n2                                KnowBe4\\n4.8   Clearwater, FL   \n3                                   PNNL\\n3.8     Richland, WA   \n4                     Affinity Solutions\\n2.9     New York, NY   \n\n     Headquarters                    Size  Founded   Type of ownership  \\\n0      Goleta, CA   501 to 1000 employees     1973   Company - Private   \n1   Baltimore, MD        10000+ employees     1984  Other Organization   \n2  Clearwater, FL   501 to 1000 employees     2010   Company - Private   \n3    Richland, WA  1001 to 5000 employees     1965          Government   \n4    New York, NY     51 to 200 employees     1998   Company - Private   \n\n                           Industry                        Sector  \\\n0               Aerospace & Defense           Aerospace & Defense   \n1  Health Care Services & Hospitals                   Health Care   \n2                 Security Services             Business Services   \n3                            Energy  Oil, Gas, Energy & Utilities   \n4           Advertising & Marketing             Business Services   \n\n                            Revenue  \\\n0         $50 to $100 million (USD)   \n1            $2 to $5 billion (USD)   \n2        $100 to $500 million (USD)   \n3  $500 million to $1 billion (USD)   \n4          Unknown / Non-Applicable   \n\n                                         Competitors  hourly  \\\n0                                                 -1       0   \n1                                                 -1       0   \n2                                                 -1       0   \n3  Oak Ridge National Laboratory, National Renewa...       0   \n4               Commerce Signals, Cardlytics, Yodlee       0   \n\n   employer_provided  min_salary  max_salary  avg_salary  \n0                  0        53.0        91.0        72.0  \n1                  0        63.0       112.0        87.5  \n2                  0        80.0        90.0        85.0  \n3                  0        56.0        97.0        76.5  \n4                  0        86.0       143.0       114.5  ",
      "text/html": "<div>\n<style scoped>\n    .dataframe tbody tr th:only-of-type {\n        vertical-align: middle;\n    }\n\n    .dataframe tbody tr th {\n        vertical-align: top;\n    }\n\n    .dataframe thead th {\n        text-align: right;\n    }\n</style>\n<table border=\"1\" class=\"dataframe\">\n  <thead>\n    <tr style=\"text-align: right;\">\n      <th></th>\n      <th>Unnamed: 0</th>\n      <th>Job Title</th>\n      <th>Salary Estimate</th>\n      <th>Job Description</th>\n      <th>Rating</th>\n      <th>Company Name</th>\n      <th>Location</th>\n      <th>Headquarters</th>\n      <th>Size</th>\n      <th>Founded</th>\n      <th>Type of ownership</th>\n      <th>Industry</th>\n      <th>Sector</th>\n      <th>Revenue</th>\n      <th>Competitors</th>\n      <th>hourly</th>\n      <th>employer_provided</th>\n      <th>min_salary</th>\n      <th>max_salary</th>\n      <th>avg_salary</th>\n    </tr>\n  </thead>\n  <tbody>\n    <tr>\n      <th>0</th>\n      <td>0</td>\n      <td>Data Scientist</td>\n      <td>$53K-$91K (Glassdoor est.)</td>\n      <td>Data Scientist\\nLocation: Albuquerque, NM\\nEdu...</td>\n      <td>3.8</td>\n      <td>Tecolote Research\\n3.8</td>\n      <td>Albuquerque, NM</td>\n      <td>Goleta, CA</td>\n      <td>501 to 1000 employees</td>\n      <td>1973</td>\n      <td>Company - Private</td>\n      <td>Aerospace &amp; Defense</td>\n      <td>Aerospace &amp; Defense</td>\n      <td>$50 to $100 million (USD)</td>\n      <td>-1</td>\n      <td>0</td>\n      <td>0</td>\n      <td>53.0</td>\n      <td>91.0</td>\n      <td>72.0</td>\n    </tr>\n    <tr>\n      <th>1</th>\n      <td>1</td>\n      <td>Healthcare Data Scientist</td>\n      <td>$63K-$112K (Glassdoor est.)</td>\n      <td>What You Will Do:\\n\\nI. General Summary\\n\\nThe...</td>\n      <td>3.4</td>\n      <td>University of Maryland Medical System\\n3.4</td>\n      <td>Linthicum, MD</td>\n      <td>Baltimore, MD</td>\n      <td>10000+ employees</td>\n      <td>1984</td>\n      <td>Other Organization</td>\n      <td>Health Care Services &amp; Hospitals</td>\n      <td>Health Care</td>\n      <td>$2 to $5 billion (USD)</td>\n      <td>-1</td>\n      <td>0</td>\n      <td>0</td>\n      <td>63.0</td>\n      <td>112.0</td>\n      <td>87.5</td>\n    </tr>\n    <tr>\n      <th>2</th>\n      <td>2</td>\n      <td>Data Scientist</td>\n      <td>$80K-$90K (Glassdoor est.)</td>\n      <td>KnowBe4, Inc. is a high growth information sec...</td>\n      <td>4.8</td>\n      <td>KnowBe4\\n4.8</td>\n      <td>Clearwater, FL</td>\n      <td>Clearwater, FL</td>\n      <td>501 to 1000 employees</td>\n      <td>2010</td>\n      <td>Company - Private</td>\n      <td>Security Services</td>\n      <td>Business Services</td>\n      <td>$100 to $500 million (USD)</td>\n      <td>-1</td>\n      <td>0</td>\n      <td>0</td>\n      <td>80.0</td>\n      <td>90.0</td>\n      <td>85.0</td>\n    </tr>\n    <tr>\n      <th>3</th>\n      <td>3</td>\n      <td>Data Scientist</td>\n      <td>$56K-$97K (Glassdoor est.)</td>\n      <td>*Organization and Job ID**\\nJob ID: 310709\\n\\n...</td>\n      <td>3.8</td>\n      <td>PNNL\\n3.8</td>\n      <td>Richland, WA</td>\n      <td>Richland, WA</td>\n      <td>1001 to 5000 employees</td>\n      <td>1965</td>\n      <td>Government</td>\n      <td>Energy</td>\n      <td>Oil, Gas, Energy &amp; Utilities</td>\n      <td>$500 million to $1 billion (USD)</td>\n      <td>Oak Ridge National Laboratory, National Renewa...</td>\n      <td>0</td>\n      <td>0</td>\n      <td>56.0</td>\n      <td>97.0</td>\n      <td>76.5</td>\n    </tr>\n    <tr>\n      <th>4</th>\n      <td>4</td>\n      <td>Data Scientist</td>\n      <td>$86K-$143K (Glassdoor est.)</td>\n      <td>Data Scientist\\nAffinity Solutions / Marketing...</td>\n      <td>2.9</td>\n      <td>Affinity Solutions\\n2.9</td>\n      <td>New York, NY</td>\n      <td>New York, NY</td>\n      <td>51 to 200 employees</td>\n      <td>1998</td>\n      <td>Company - Private</td>\n      <td>Advertising &amp; Marketing</td>\n      <td>Business Services</td>\n      <td>Unknown / Non-Applicable</td>\n      <td>Commerce Signals, Cardlytics, Yodlee</td>\n      <td>0</td>\n      <td>0</td>\n      <td>86.0</td>\n      <td>143.0</td>\n      <td>114.5</td>\n    </tr>\n  </tbody>\n</table>\n</div>"
     },
     "metadata": {},
     "execution_count": 73
    },
    {
     "output_type": "execute_result",
     "data": {
      "text/plain": "Unnamed: 0             int64\nJob Title             object\nSalary Estimate       object\nJob Description       object\nRating               float64\nCompany Name          object\nLocation              object\nHeadquarters          object\nSize                  object\nFounded                int64\nType of ownership     object\nIndustry              object\nSector                object\nRevenue               object\nCompetitors           object\nhourly                 int64\nemployer_provided      int64\nmin_salary           float16\nmax_salary           float16\navg_salary           float16\ndtype: object"
     },
     "metadata": {},
     "execution_count": 73
    }
   ],
   "source": [
    "df.head()\n",
    "df.dtypes"
   ]
  },
  {
   "cell_type": "code",
   "execution_count": 74,
   "metadata": {
    "tags": []
   },
   "outputs": [
    {
     "output_type": "stream",
     "name": "stdout",
     "text": "Total # of Companies not having Rating:\n"
    },
    {
     "output_type": "execute_result",
     "data": {
      "text/plain": "11"
     },
     "metadata": {},
     "execution_count": 74
    }
   ],
   "source": [
    "#((df[\"Rating\"] < 0) * 1).unique()\n",
    "print(\"Total # of Companies not having Rating:\")\n",
    "((df[\"Rating\"] < 0) * 1).sum() # there 11 Companies without rating Tagged: -1 "
   ]
  },
  {
   "cell_type": "code",
   "execution_count": 75,
   "metadata": {
    "tags": []
   },
   "outputs": [
    {
     "output_type": "stream",
     "name": "stdout",
     "text": "Total # of Companies:\n"
    },
    {
     "output_type": "execute_result",
     "data": {
      "text/plain": "Takeda Pharmaceuticals                             14\nMassMutual                                         14\nReynolds American                                  14\nSoftware Engineering Institute                     11\nLiberty Mutual Insurance                           10\nPNNL                                               10\nAstraZeneca                                         9\nMITRE                                               8\nPfizer                                              7\nRochester Regional Health                           7\nFareportal                                          7\nAdvanced BioScience Laboratories                    7\nNovartis                                            7\nNumeric, LLC                                        7\nKronos Bio                                          6\nThe Church of Jesus Christ of Latter-day Saints     6\nTapjoy                                              6\nNovetta                                             6\nEsri                                                6\nQ2 Solutions                                        6\nBeebe Healthcare                                    6\nThe Hanover Insurance Group                         5\nRubius Therapeutics                                 5\nSunovion                                            5\nManTech                                             4\nKnowBe4                                             4\nGenentech                                           4\nSartorius                                           4\nGSK                                                 4\nNorthrop Grumman                                    4\n                                                   ..\nPeoplesBank                                         1\nGridiron IT                                         1\niSeatz                                              1\nRedjack                                             1\nCarilion Clinic                                     1\nSuccess Academy Charter Schools                     1\nGNS Healthcare                                      1\nNektar Therapeutics                                 1\nWest Coast University                               1\nAudible                                             1\nDentaQuest                                          1\nSotheby's                                           1\nCOUNTRY Financial                                   1\nTecolote Research                                   1\nThe HSC Health Care System                          1\nDRB Systems                                         1\nCapgemini                                           1\nGNY Insurance Companies                             1\nJohns Hopkins Health Care                           1\nPactera                                             1\nTorch Technologies, Inc.                            1\nCommunity Action Partnership of San Luis Obispo     1\nWK Dickson                                          1\nDrFirst                                             1\nSapphire Digital                                    1\nAlliance Source Testing                             1\nDayton Freight Lines, Inc.                          1\nBoys Town Hospital                                  1\nSamsung Research America                            1\nSynagro                                             1\nName: company_name, Length: 343, dtype: int64"
     },
     "metadata": {},
     "execution_count": 75
    }
   ],
   "source": [
    "# COMPANY NAME parsing  \n",
    "# Extract \"Company Name\" from Company Name and extract Ratings if  \n",
    "df[\"company_name\"] = df.apply(lambda x: x[\"Company Name\"] if x[\"Rating\"] < 0 else x[\"Company Name\"].split('\\n')[0], axis=1)\n",
    "print(\"Total # of Companies:\")\n",
    "df[\"company_name\"].value_counts()\n"
   ]
  },
  {
   "cell_type": "code",
   "execution_count": 76,
   "metadata": {},
   "outputs": [
    {
     "output_type": "execute_result",
     "data": {
      "text/plain": "array([' NM', ' MD', ' FL', ' WA', ' NY', ' TX', ' CA', ' VA', ' MA',\n       ' NJ', ' CO', ' IL', ' KY', ' OR', ' CT', ' MI', ' DC', ' OH',\n       ' AL', ' MO', ' PA', ' GA', ' IN', ' LA', ' WI', ' NC', ' AZ',\n       ' NE', ' MN', ' Los Angeles', ' UT', ' TN', ' DE', ' ID', ' RI',\n       ' IA', ' SC', ' KS'], dtype=object)"
     },
     "metadata": {},
     "execution_count": 76
    },
    {
     "output_type": "execute_result",
     "data": {
      "text/plain": "1    414\n0    328\nName: same_state_as_hq, dtype: int64"
     },
     "metadata": {},
     "execution_count": 76
    }
   ],
   "source": [
    "# STATE NAME parsing \n",
    "df[\"state_name\"] = df[\"Location\"].apply(lambda x: x.split(',')[1])\n",
    "# df[\"state_name\"].value_counts()\n",
    "df[\"state_name\"].unique()\n",
    "\n",
    "# Find out if \"State\" is the same as the \"Headquarter\" \n",
    "df[\"same_state_as_hq\"] = df.apply(lambda x: 1 if x[\"Location\"] == x[\"Headquarters\"] else 0, axis=1)\n",
    "df[\"same_state_as_hq\"].value_counts()\n"
   ]
  },
  {
   "cell_type": "code",
   "execution_count": 77,
   "metadata": {},
   "outputs": [
    {
     "output_type": "execute_result",
     "data": {
      "text/plain": "-1      50\n 10     32\n 12     31\n 24     27\n 14     24\n 8      21\n 9      19\n 62     18\n 18     18\n 36     18\n 13     18\n 5      16\n 7      15\n 169    14\n 145    14\n 23     14\n 239    14\n 6      13\n 55     12\n 21     12\n 3      12\n 85     10\n 20     10\n 108    10\n 17     10\n 15     10\n 107     9\n 38      9\n 39      9\n 59      9\n        ..\n 33      2\n 46      2\n 69      2\n 37      2\n 45      2\n 68      2\n 66      2\n 40      2\n 58      2\n 92      2\n 91      1\n 49      1\n 75      1\n 90      1\n 170     1\n 160     1\n 208     1\n 78      1\n 142     1\n 35      1\n 137     1\n 93      1\n 41      1\n 133     1\n 131     1\n 121     1\n 118     1\n 106     1\n 103     1\n 276     1\nName: age, Length: 102, dtype: int64"
     },
     "metadata": {},
     "execution_count": 77
    },
    {
     "output_type": "execute_result",
     "data": {
      "text/plain": "dtype('int64')"
     },
     "metadata": {},
     "execution_count": 77
    }
   ],
   "source": [
    "# AGE OF COMPANIES parsing, keeping -1 if Founded year is not given \n",
    "df[\"age\"] = df[\"Founded\"].apply(lambda x: x if x < 0 else (2020 - x))\n",
    "df[\"age\"].value_counts()\n",
    "df[\"age\"].dtypes"
   ]
  },
  {
   "cell_type": "code",
   "execution_count": 78,
   "metadata": {},
   "outputs": [],
   "source": [
    "import re\n",
    "# JOB DESCRIPTION parsing, extract relevant keywords\n",
    "# Find out relevant SKILLS(sk) keyword in job descriptions\n",
    "df[\"python_sk\"] = df[\"Job Description\"].apply(lambda x: 1 if 'python' in x.lower() else 0)\n",
    "df[\"rstudio_sk\"] = df[\"Job Description\"].apply(lambda x: 1 if re.search(r'\\br studio\\b', x.lower()) or re.search(r'\\br-studio\\b', x.lower()) else 0)\n",
    "df[\"spark_sk\"] = df[\"Job Description\"].apply(lambda x: 1 if re.search(r'\\bspark\\b', x.lower()) else 0)\n",
    "df[\"aws_sk\"] = df[\"Job Description\"].apply(lambda x: 1 if re.search(r'\\baws\\b', x.lower()) else 0)\n",
    "df[\"excel_sk\"] = df[\"Job Description\"].apply(lambda x: 1 if re.search(r'\\bexcel\\b', x.lower()) else 0)\n",
    "df[\"sql_sk\"] = df[\"Job Description\"].apply(lambda x: 1 if re.search(r'\\bsql\\b', x.lower()) else 0)\n",
    "df[\"tableau_sk\"] = df[\"Job Description\"].apply(lambda x: 1 if 'tableau' in x.lower() else 0)\n",
    "df[\"nosql_sk\"] = df[\"Job Description\"].apply(lambda x: 1 if 'nosql' in x.lower() else 0)\n",
    "\n",
    "\n",
    "# Find out relevant QUALIFICATIONS(ql) keyword in job descriptions\n",
    "df[\"comp_sc_ql\"] = df[\"Job Description\"].apply(lambda x: 1 if 'computer science' in x.lower() else 0)\n",
    "df[\"stat_ql\"] = df[\"Job Description\"].apply(lambda x: 1 if 'statistic' in x.lower() else 0)\n",
    "df[\"phd_ql\"] = df[\"Job Description\"].apply(lambda x: 1 if re.search(r'\\bphd\\b', x.lower()) else 0)\n",
    "df[\"master_ql\"] = df[\"Job Description\"].apply(lambda x: 1 if re.search(r'\\bmaster\\b', x.lower()) or re.search(r'\\bmsc\\b', x.lower()) or re.search(r'\\bmsc.\\b', x.lower()) else 0)\n",
    "df[\"bsc_ql\"] = df[\"Job Description\"].apply(lambda x: 1 if 'bachelor' in x.lower() else 0)"
   ]
  },
  {
   "cell_type": "code",
   "execution_count": 79,
   "metadata": {},
   "outputs": [
    {
     "output_type": "execute_result",
     "data": {
      "text/plain": "1    392\n0    350\nName: python_sk, dtype: int64"
     },
     "metadata": {},
     "execution_count": 79
    }
   ],
   "source": [
    "# Example \n",
    "df[\"python_sk\"].value_counts()"
   ]
  },
  {
   "cell_type": "code",
   "execution_count": 80,
   "metadata": {},
   "outputs": [
    {
     "output_type": "execute_result",
     "data": {
      "text/plain": "Index(['Unnamed: 0', 'Job Title', 'Salary Estimate', 'Job Description',\n       'Rating', 'Company Name', 'Location', 'Headquarters', 'Size', 'Founded',\n       'Type of ownership', 'Industry', 'Sector', 'Revenue', 'Competitors',\n       'hourly', 'employer_provided', 'min_salary', 'max_salary', 'avg_salary',\n       'company_name', 'state_name', 'same_state_as_hq', 'age', 'python_sk',\n       'rstudio_sk', 'spark_sk', 'aws_sk', 'excel_sk', 'sql_sk', 'tableau_sk',\n       'nosql_sk', 'comp_sc_ql', 'stat_ql', 'phd_ql', 'master_ql', 'bsc_ql'],\n      dtype='object')"
     },
     "metadata": {},
     "execution_count": 80
    }
   ],
   "source": [
    "# Save dataset having \"Salary Estimate\"\n",
    "df.columns\n",
    "df = df.drop([\"Unnamed: 0\"], axis=1)\n",
    "# Save \n",
    "df.to_csv('dataset/gd_data_cleaned_with_salary_estimate.csv', index=False)"
   ]
  },
  {
   "cell_type": "code",
   "execution_count": null,
   "metadata": {},
   "outputs": [],
   "source": []
  }
 ],
 "metadata": {
  "kernelspec": {
   "display_name": "Python 3.6.7 64-bit ('dj-367': conda)",
   "language": "python",
   "name": "python_defaultSpec_1595387065748"
  },
  "language_info": {
   "codemirror_mode": {
    "name": "ipython",
    "version": 3
   },
   "file_extension": ".py",
   "mimetype": "text/x-python",
   "name": "python",
   "nbconvert_exporter": "python",
   "pygments_lexer": "ipython3",
   "version": "3.6.7-final"
  }
 },
 "nbformat": 4,
 "nbformat_minor": 4
}